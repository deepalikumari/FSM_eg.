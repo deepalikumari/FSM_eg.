{
  "nbformat": 4,
  "nbformat_minor": 0,
  "metadata": {
    "colab": {
      "provenance": []
    },
    "kernelspec": {
      "name": "python3",
      "display_name": "Python 3"
    },
    "language_info": {
      "name": "python"
    }
  },
  "cells": [
    {
      "cell_type": "code",
      "source": [
        "!pip install transitions\n",
        "\n",
        "from transitions import Machine\n",
        "from transitions.extensions import GraphMachine"
      ],
      "metadata": {
        "colab": {
          "base_uri": "https://localhost:8080/"
        },
        "id": "hzV12xIcIAPi",
        "outputId": "c9b8cfab-b7bb-40a3-a5d4-7f155bc797ae"
      },
      "execution_count": null,
      "outputs": [
        {
          "output_type": "stream",
          "name": "stdout",
          "text": [
            "Looking in indexes: https://pypi.org/simple, https://us-python.pkg.dev/colab-wheels/public/simple/\n",
            "Requirement already satisfied: transitions in /usr/local/lib/python3.10/dist-packages (0.9.0)\n",
            "Requirement already satisfied: six in /usr/local/lib/python3.10/dist-packages (from transitions) (1.16.0)\n"
          ]
        }
      ]
    },
    {
      "cell_type": "code",
      "execution_count": null,
      "metadata": {
        "id": "AS-z6w18Hq0B"
      },
      "outputs": [],
      "source": [
        "class vending_machine(object):\n",
        "\n",
        "  states = ['idle', 'Count Coins', 'Give Change', 'Select Soda', 'Dispense Soda']\n",
        "  drinks = ['Coca Cola', 'Pepsi', 'Thumbs Up', 'Sprite', 'Red Bull']\n",
        "  amount = 0\n",
        "  choice = 0\n",
        "\n",
        "  def accept_coins(self, amount=0):\n",
        "    self.amount = amount\n",
        "  \n",
        "  def is_valid(self):\n",
        "    if(self.amount<15):\n",
        "      print(\"Money not Enough!\\n\")\n",
        "      print(\"Insert Coins again\\n\")\n",
        "      return False\n",
        "    print(\"Insertion Successful!\\n\")\n",
        "    print(\"No Money Ejected!\\n\")\n",
        "    return True\n",
        "\n",
        "  def select_soda(self):\n",
        "\n",
        "    while(1):\n",
        "      print(\"Choose a Drink from following:\\n\")\n",
        "      for i in range(len(self.drinks)):\n",
        "        print('(',i+1, ')', self.drinks[i],' ')\n",
        "      print('\\n')\n",
        "      self.choice = int(input())\n",
        "      if(self.choice<=len(self.drinks) and self.choice>=1):\n",
        "        break\n",
        "      else:\n",
        "        print(\"Wrong Choice Entered, Choose again!\\n\")\n",
        "\n",
        "  def dispensed(self):\n",
        "    print(\"Your \", self.drinks[self.choice-1], \" dispensed successfully!\\n\")\n",
        "    print(\"Thank You!\\n\")\n",
        "          \n",
        "\n",
        "  def __init__(self):\n",
        "    self.machine = GraphMachine(model=self, states=vending_machine.states, initial='idle')\n",
        "\n",
        "    self.machine.add_transition('insert_coins', 'idle', 'Count Coins', before='accept_coins')\n",
        "    self.machine.add_transition('reject_coins', 'Count Coins', 'Give Change', unless='is_valid')\n",
        "    self.machine.add_transition('cancel', '*', 'Give Change')\n",
        "    self.machine.add_transition('proceed', 'Count Coins', 'Select Soda')\n",
        "    self.machine.add_transition('proceed', 'Select Soda','Dispense Soda',before='select_soda', after='dispensed')\n",
        "    self.machine.add_transition('shutdown', '*', 'idle')"
      ]
    },
    {
      "cell_type": "code",
      "source": [
        "vMach = vending_machine()\n",
        "vMach.state"
      ],
      "metadata": {
        "colab": {
          "base_uri": "https://localhost:8080/",
          "height": 36
        },
        "id": "XCZBTAQYH3vF",
        "outputId": "ad63c04b-3c00-4deb-9115-ffc66640426b"
      },
      "execution_count": null,
      "outputs": [
        {
          "output_type": "execute_result",
          "data": {
            "text/plain": [
              "'idle'"
            ],
            "application/vnd.google.colaboratory.intrinsic+json": {
              "type": "string"
            }
          },
          "metadata": {},
          "execution_count": 22
        }
      ]
    },
    {
      "cell_type": "code",
      "source": [
        "vMach.insert_coins(16)\n",
        "vMach.state"
      ],
      "metadata": {
        "colab": {
          "base_uri": "https://localhost:8080/",
          "height": 36
        },
        "id": "VwEQCUJOH-D1",
        "outputId": "3ae79487-6a73-48d7-d579-20697d2fe607"
      },
      "execution_count": null,
      "outputs": [
        {
          "output_type": "execute_result",
          "data": {
            "text/plain": [
              "'Count Coins'"
            ],
            "application/vnd.google.colaboratory.intrinsic+json": {
              "type": "string"
            }
          },
          "metadata": {},
          "execution_count": 23
        }
      ]
    },
    {
      "cell_type": "code",
      "source": [
        "vMach.reject_coins()\n",
        "vMach.state"
      ],
      "metadata": {
        "colab": {
          "base_uri": "https://localhost:8080/",
          "height": 105
        },
        "id": "UMYUBwfZIZEy",
        "outputId": "c40a59ca-5022-423f-d93b-0ec44af99ff0"
      },
      "execution_count": null,
      "outputs": [
        {
          "output_type": "stream",
          "name": "stdout",
          "text": [
            "Insertion Successful!\n",
            "\n",
            "No Money Ejected!\n",
            "\n"
          ]
        },
        {
          "output_type": "execute_result",
          "data": {
            "text/plain": [
              "'Count Coins'"
            ],
            "application/vnd.google.colaboratory.intrinsic+json": {
              "type": "string"
            }
          },
          "metadata": {},
          "execution_count": 24
        }
      ]
    },
    {
      "cell_type": "code",
      "source": [
        "vMach.proceed()\n",
        "vMach.state"
      ],
      "metadata": {
        "colab": {
          "base_uri": "https://localhost:8080/",
          "height": 36
        },
        "id": "Ah15WhBNIb6a",
        "outputId": "1d77334f-b4d0-4d7e-ac65-f527e15d8c62"
      },
      "execution_count": null,
      "outputs": [
        {
          "output_type": "execute_result",
          "data": {
            "text/plain": [
              "'Select Soda'"
            ],
            "application/vnd.google.colaboratory.intrinsic+json": {
              "type": "string"
            }
          },
          "metadata": {},
          "execution_count": 25
        }
      ]
    },
    {
      "cell_type": "code",
      "source": [
        "vMach.proceed()\n",
        "vMach.state"
      ],
      "metadata": {
        "colab": {
          "base_uri": "https://localhost:8080/",
          "height": 278
        },
        "id": "425DOANJIe2w",
        "outputId": "832a9670-a519-4840-b153-37bdc1e9a8af"
      },
      "execution_count": null,
      "outputs": [
        {
          "output_type": "stream",
          "name": "stdout",
          "text": [
            "Choose a Drink from following:\n",
            "\n",
            "( 1 ) Coca Cola  \n",
            "( 2 ) Pepsi  \n",
            "( 3 ) Thumbs Up  \n",
            "( 4 ) Sprite  \n",
            "( 5 ) Red Bull  \n",
            "\n",
            "\n",
            "4\n",
            "Your  Sprite  dispensed successfully!\n",
            "\n",
            "Thank You!\n",
            "\n"
          ]
        },
        {
          "output_type": "execute_result",
          "data": {
            "text/plain": [
              "'Dispense Soda'"
            ],
            "application/vnd.google.colaboratory.intrinsic+json": {
              "type": "string"
            }
          },
          "metadata": {},
          "execution_count": 26
        }
      ]
    },
    {
      "cell_type": "code",
      "source": [
        "vMach.shutdown()\n",
        "vMach.state"
      ],
      "metadata": {
        "colab": {
          "base_uri": "https://localhost:8080/",
          "height": 36
        },
        "id": "qIGHq9x3IiJz",
        "outputId": "3bca40a0-f13a-4186-fd00-acabc176929d"
      },
      "execution_count": null,
      "outputs": [
        {
          "output_type": "execute_result",
          "data": {
            "text/plain": [
              "'idle'"
            ],
            "application/vnd.google.colaboratory.intrinsic+json": {
              "type": "string"
            }
          },
          "metadata": {},
          "execution_count": 27
        }
      ]
    },
    {
      "cell_type": "code",
      "source": [],
      "metadata": {
        "id": "hKiuevkBImn-"
      },
      "execution_count": null,
      "outputs": []
    }
  ]
}